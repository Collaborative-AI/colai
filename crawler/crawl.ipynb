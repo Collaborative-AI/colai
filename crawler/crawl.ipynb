{
 "cells": [
  {
   "cell_type": "code",
   "execution_count": null,
   "id": "1q13sJrzuBvf",
   "metadata": {
    "colab": {
     "base_uri": "https://localhost:8080/"
    },
    "executionInfo": {
     "elapsed": 19379,
     "status": "ok",
     "timestamp": 1685948711656,
     "user": {
      "displayName": "Heqiao Wang",
      "userId": "13677439970760376654"
     },
     "user_tz": -480
    },
    "id": "1q13sJrzuBvf",
    "outputId": "885e931f-fdb9-49d7-fe53-ce093c607abe"
   },
   "outputs": [
    {
     "ename": "ModuleNotFoundError",
     "evalue": "No module named 'google.colab'",
     "output_type": "error",
     "traceback": [
      "\u001b[1;31m---------------------------------------------------------------------------\u001b[0m",
      "\u001b[1;31mModuleNotFoundError\u001b[0m                       Traceback (most recent call last)",
      "\u001b[1;32mC:\\Users\\LUZEYU~1\\AppData\\Local\\Temp/ipykernel_46128/1408506528.py\u001b[0m in \u001b[0;36m<module>\u001b[1;34m\u001b[0m\n\u001b[1;32m----> 1\u001b[1;33m \u001b[1;32mfrom\u001b[0m \u001b[0mgoogle\u001b[0m\u001b[1;33m.\u001b[0m\u001b[0mcolab\u001b[0m \u001b[1;32mimport\u001b[0m \u001b[0mdrive\u001b[0m\u001b[1;33m\u001b[0m\u001b[1;33m\u001b[0m\u001b[0m\n\u001b[0m\u001b[0;32m      2\u001b[0m \u001b[0mdrive\u001b[0m\u001b[1;33m.\u001b[0m\u001b[0mmount\u001b[0m\u001b[1;33m(\u001b[0m\u001b[1;34m'/content/drive'\u001b[0m\u001b[1;33m)\u001b[0m\u001b[1;33m\u001b[0m\u001b[1;33m\u001b[0m\u001b[0m\n",
      "\u001b[1;31mModuleNotFoundError\u001b[0m: No module named 'google.colab'"
     ]
    }
   ],
   "source": [
    "from google.colab import drive\n",
    "drive.mount('/content/drive')"
   ]
  },
  {
   "cell_type": "code",
   "execution_count": null,
   "id": "f0ddd71c",
   "metadata": {
    "ExecuteTime": {
     "end_time": "2023-06-03T04:43:44.749591Z",
     "start_time": "2023-06-03T04:43:41.236569Z"
    },
    "executionInfo": {
     "elapsed": 567,
     "status": "ok",
     "timestamp": 1685948712221,
     "user": {
      "displayName": "Heqiao Wang",
      "userId": "13677439970760376654"
     },
     "user_tz": -480
    },
    "id": "f0ddd71c"
   },
   "outputs": [],
   "source": [
    "import requests\n",
    "import pandas as pd\n",
    "from bs4 import BeautifulSoup as bs\n",
    "from tqdm import tqdm"
   ]
  },
  {
   "cell_type": "code",
   "execution_count": null,
   "id": "533fc1cmVGM0",
   "metadata": {
    "colab": {
     "base_uri": "https://localhost:8080/"
    },
    "executionInfo": {
     "elapsed": 6779,
     "status": "ok",
     "timestamp": 1685948849934,
     "user": {
      "displayName": "Heqiao Wang",
      "userId": "13677439970760376654"
     },
     "user_tz": -480
    },
    "id": "533fc1cmVGM0",
    "outputId": "e1ee1a19-8677-4059-ae2f-c70e561a61e5"
   },
   "outputs": [],
   "source": [
    "# get all dataset urls on UCI - 607 in total\n",
    "URL = \"https://archive.ics.uci.edu/ml/datasets.php\"\n",
    "page = requests.get(URL)\n",
    "soup = bs(page.content, \"html.parser\")\n",
    "urls = set()\n",
    "for a in soup.find_all('a', href=True):\n",
    "    if a['href'][:9] == \"datasets/\":\n",
    "        urls.add(a['href'][9:])"
   ]
  },
  {
   "cell_type": "code",
   "execution_count": null,
   "id": "X12k7a9uTkQP",
   "metadata": {
    "colab": {
     "base_uri": "https://localhost:8080/"
    },
    "executionInfo": {
     "elapsed": 65294,
     "status": "ok",
     "timestamp": 1685948947539,
     "user": {
      "displayName": "Heqiao Wang",
      "userId": "13677439970760376654"
     },
     "user_tz": -480
    },
    "id": "X12k7a9uTkQP",
    "outputId": "324e73c9-c95f-4989-8e97-bf8c8df3e5ac"
   },
   "outputs": [],
   "source": [
    "dt = {}\n",
    "for url in tqdm(list(urls)):\n",
    "    page0 = requests.get(\"https://archive.ics.uci.edu/ml/datasets/\" + url)\n",
    "    soup0 = bs(page0.text, \"html.parser\")\n",
    "    txt2 = soup0.find_all('p')\n",
    "    dt[url + \".txt\"] = \"https://archive.ics.uci.edu/ml/\" + url\n",
    "\n",
    "\n",
    "    with open('/content/drive/MyDrive/colai/crawler/outputs/{}.txt'.format(url), \"w\") as f:\n",
    "        for line in txt2: \n",
    "            if line.text == \"Supported By:\":\n",
    "                break \n",
    "            else:\n",
    "                f.write(line.text)\n",
    "                f.write('\\n')"
   ]
  },
  {
   "cell_type": "code",
   "execution_count": null,
   "id": "b8m5uKXAY6hc",
   "metadata": {
    "id": "b8m5uKXAY6hc"
   },
   "outputs": [],
   "source": [
    "import json\n",
    "  \n",
    "with open('/content/drive/MyDrive/colai/crawler/Output_Reference.txt', 'w') as f:\n",
    "     f.write(json.dumps(dt))"
   ]
  },
  {
   "cell_type": "code",
   "execution_count": null,
   "id": "JpqoPgDVcmNk",
   "metadata": {
    "colab": {
     "base_uri": "https://localhost:8080/"
    },
    "executionInfo": {
     "elapsed": 363,
     "status": "ok",
     "timestamp": 1685949968732,
     "user": {
      "displayName": "Heqiao Wang",
      "userId": "13677439970760376654"
     },
     "user_tz": -480
    },
    "id": "JpqoPgDVcmNk",
    "outputId": "8c54b2be-43ed-4ef8-f8f5-94d4d282b70e"
   },
   "outputs": [],
   "source": [
    " !git add '/content/drive/MyDrive/colai/crawler/crawl.ipynb'"
   ]
  },
  {
   "cell_type": "code",
   "execution_count": null,
   "id": "29dc7f5e",
   "metadata": {
    "ExecuteTime": {
     "end_time": "2023-06-03T04:44:53.961574Z",
     "start_time": "2023-06-03T04:44:53.157951Z"
    },
    "colab": {
     "base_uri": "https://localhost:8080/",
     "height": 133
    },
    "executionInfo": {
     "elapsed": 299,
     "status": "error",
     "timestamp": 1685863173594,
     "user": {
      "displayName": "Heqiao Wang",
      "userId": "13677439970760376654"
     },
     "user_tz": -480
    },
    "id": "29dc7f5e",
    "outputId": "c175822e-81c7-4fbe-c187-b83320b8a30c"
   },
   "outputs": [],
   "source": [
    "\"\"\" extract the info table on the webpage as a pandas DataFrame \n",
    "tb0 = soup0.find('table', {\"border\":\"1\", \"cellpadding\":\"6\"})\n",
    "tb = pd.DataFrame(columns = [\"heading\",\"content\"])\n",
    "\n",
    "for i in range(len(tb0.find_all('td'))):\n",
    "    if i % 2:\n",
    "        tb.loc[len(tb)] = [tb0.find_all('td')[i-1].text, tb0.find_all('td')[i].text]\n",
    "\"\"\""
   ]
  }
 ],
 "metadata": {
  "colab": {
   "provenance": []
  },
  "kernelspec": {
   "display_name": "Python 3 (ipykernel)",
   "language": "python",
   "name": "python3"
  },
  "language_info": {
   "codemirror_mode": {
    "name": "ipython",
    "version": 3
   },
   "file_extension": ".py",
   "mimetype": "text/x-python",
   "name": "python",
   "nbconvert_exporter": "python",
   "pygments_lexer": "ipython3",
   "version": "3.9.7"
  }
 },
 "nbformat": 4,
 "nbformat_minor": 5
}
